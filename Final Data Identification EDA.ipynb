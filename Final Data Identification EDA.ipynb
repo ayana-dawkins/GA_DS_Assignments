{
 "cells": [
  {
   "cell_type": "markdown",
   "metadata": {},
   "source": [
    "## Final Data Identification"
   ]
  },
  {
   "cell_type": "markdown",
   "metadata": {},
   "source": [
    "- Dataset = Police Killings in US\n",
    "\n",
    "- Date Range = 2015 - 2017\n",
    "\n",
    "- Sources: \n",
    " - Initial data set pulled from kaggle: https://www.kaggle.com/kwullum/fatal-police-shootings-in-the-us\n",
    " - There are multiple excel sheets/csv's, in excel, I combined all of the datasets together by doing a vlookup on the city where the killing occurred: \n",
    "   - Combining these data sets together will hopefully enrich the initial data set so that I can take additional factors into consideration\n",
    "    "
   ]
  },
  {
   "cell_type": "code",
   "execution_count": 2,
   "metadata": {},
   "outputs": [],
   "source": [
    "%matplotlib inline\n",
    "import matplotlib.pyplot as plt\n",
    "import numpy as np\n",
    "import pandas as pd\n",
    "import seaborn as sns"
   ]
  },
  {
   "cell_type": "code",
   "execution_count": 3,
   "metadata": {},
   "outputs": [],
   "source": [
    "df = pd.read_csv('data/PoliceKillingsUS.csv', index_col=0)"
   ]
  },
  {
   "cell_type": "code",
   "execution_count": 4,
   "metadata": {},
   "outputs": [
    {
     "data": {
      "text/html": [
       "<div>\n",
       "<style scoped>\n",
       "    .dataframe tbody tr th:only-of-type {\n",
       "        vertical-align: middle;\n",
       "    }\n",
       "\n",
       "    .dataframe tbody tr th {\n",
       "        vertical-align: top;\n",
       "    }\n",
       "\n",
       "    .dataframe thead th {\n",
       "        text-align: right;\n",
       "    }\n",
       "</style>\n",
       "<table border=\"1\" class=\"dataframe\">\n",
       "  <thead>\n",
       "    <tr style=\"text-align: right;\">\n",
       "      <th></th>\n",
       "      <th>name</th>\n",
       "      <th>date</th>\n",
       "      <th>manner_of_death</th>\n",
       "      <th>armed</th>\n",
       "      <th>age</th>\n",
       "      <th>gender</th>\n",
       "      <th>race</th>\n",
       "      <th>city</th>\n",
       "      <th>state</th>\n",
       "      <th>signs_of_mental_illness</th>\n",
       "      <th>...</th>\n",
       "      <th>flee</th>\n",
       "      <th>body_camera</th>\n",
       "      <th>median_income</th>\n",
       "      <th>poverty_rate</th>\n",
       "      <th>percent_completed_hs</th>\n",
       "      <th>share_of_city_white</th>\n",
       "      <th>share_of_city_black</th>\n",
       "      <th>share_of_city_native_american</th>\n",
       "      <th>share_of_city_asian</th>\n",
       "      <th>share_of_city_hispanic</th>\n",
       "    </tr>\n",
       "    <tr>\n",
       "      <th>id</th>\n",
       "      <th></th>\n",
       "      <th></th>\n",
       "      <th></th>\n",
       "      <th></th>\n",
       "      <th></th>\n",
       "      <th></th>\n",
       "      <th></th>\n",
       "      <th></th>\n",
       "      <th></th>\n",
       "      <th></th>\n",
       "      <th></th>\n",
       "      <th></th>\n",
       "      <th></th>\n",
       "      <th></th>\n",
       "      <th></th>\n",
       "      <th></th>\n",
       "      <th></th>\n",
       "      <th></th>\n",
       "      <th></th>\n",
       "      <th></th>\n",
       "      <th></th>\n",
       "    </tr>\n",
       "  </thead>\n",
       "  <tbody>\n",
       "    <tr>\n",
       "      <th>3</th>\n",
       "      <td>Tim Elliot</td>\n",
       "      <td>2/1/2015</td>\n",
       "      <td>shot</td>\n",
       "      <td>gun</td>\n",
       "      <td>53.0</td>\n",
       "      <td>M</td>\n",
       "      <td>A</td>\n",
       "      <td>Shelton</td>\n",
       "      <td>WA</td>\n",
       "      <td>True</td>\n",
       "      <td>...</td>\n",
       "      <td>Not fleeing</td>\n",
       "      <td>False</td>\n",
       "      <td>31750</td>\n",
       "      <td>31.1</td>\n",
       "      <td>64.1</td>\n",
       "      <td>97.9</td>\n",
       "      <td>0.0</td>\n",
       "      <td>1.1</td>\n",
       "      <td>0.5</td>\n",
       "      <td>1.1</td>\n",
       "    </tr>\n",
       "    <tr>\n",
       "      <th>4</th>\n",
       "      <td>Lewis Lee Lembke</td>\n",
       "      <td>2/1/2015</td>\n",
       "      <td>shot</td>\n",
       "      <td>gun</td>\n",
       "      <td>47.0</td>\n",
       "      <td>M</td>\n",
       "      <td>W</td>\n",
       "      <td>Aloha</td>\n",
       "      <td>OR</td>\n",
       "      <td>False</td>\n",
       "      <td>...</td>\n",
       "      <td>Not fleeing</td>\n",
       "      <td>False</td>\n",
       "      <td>42009</td>\n",
       "      <td>27.7</td>\n",
       "      <td>48.1</td>\n",
       "      <td>79.6</td>\n",
       "      <td>0.6</td>\n",
       "      <td>0.3</td>\n",
       "      <td>0.0</td>\n",
       "      <td>49.4</td>\n",
       "    </tr>\n",
       "    <tr>\n",
       "      <th>5</th>\n",
       "      <td>John Paul Quintero</td>\n",
       "      <td>3/1/2015</td>\n",
       "      <td>shot and Tasered</td>\n",
       "      <td>unarmed</td>\n",
       "      <td>23.0</td>\n",
       "      <td>M</td>\n",
       "      <td>H</td>\n",
       "      <td>Wichita</td>\n",
       "      <td>KS</td>\n",
       "      <td>False</td>\n",
       "      <td>...</td>\n",
       "      <td>Not fleeing</td>\n",
       "      <td>False</td>\n",
       "      <td>32500</td>\n",
       "      <td>17.2</td>\n",
       "      <td>79.2</td>\n",
       "      <td>96.4</td>\n",
       "      <td>0.0</td>\n",
       "      <td>0.0</td>\n",
       "      <td>0.6</td>\n",
       "      <td>6.0</td>\n",
       "    </tr>\n",
       "    <tr>\n",
       "      <th>8</th>\n",
       "      <td>Matthew Hoffman</td>\n",
       "      <td>4/1/2015</td>\n",
       "      <td>shot</td>\n",
       "      <td>toy weapon</td>\n",
       "      <td>32.0</td>\n",
       "      <td>M</td>\n",
       "      <td>W</td>\n",
       "      <td>San Francisco</td>\n",
       "      <td>CA</td>\n",
       "      <td>True</td>\n",
       "      <td>...</td>\n",
       "      <td>Not fleeing</td>\n",
       "      <td>False</td>\n",
       "      <td>31750</td>\n",
       "      <td>31.1</td>\n",
       "      <td>86.6</td>\n",
       "      <td>97.9</td>\n",
       "      <td>0.0</td>\n",
       "      <td>1.1</td>\n",
       "      <td>0.0</td>\n",
       "      <td>1.1</td>\n",
       "    </tr>\n",
       "    <tr>\n",
       "      <th>9</th>\n",
       "      <td>Michael Rodriguez</td>\n",
       "      <td>4/1/2015</td>\n",
       "      <td>shot</td>\n",
       "      <td>nail gun</td>\n",
       "      <td>39.0</td>\n",
       "      <td>M</td>\n",
       "      <td>H</td>\n",
       "      <td>Evans</td>\n",
       "      <td>CO</td>\n",
       "      <td>False</td>\n",
       "      <td>...</td>\n",
       "      <td>Not fleeing</td>\n",
       "      <td>False</td>\n",
       "      <td>39868</td>\n",
       "      <td>11.1</td>\n",
       "      <td>91.2</td>\n",
       "      <td>96.3</td>\n",
       "      <td>0.0</td>\n",
       "      <td>0.4</td>\n",
       "      <td>0.0</td>\n",
       "      <td>0.4</td>\n",
       "    </tr>\n",
       "  </tbody>\n",
       "</table>\n",
       "<p>5 rows × 21 columns</p>\n",
       "</div>"
      ],
      "text/plain": [
       "                  name      date   manner_of_death       armed   age gender  \\\n",
       "id                                                                            \n",
       "3           Tim Elliot  2/1/2015              shot         gun  53.0      M   \n",
       "4     Lewis Lee Lembke  2/1/2015              shot         gun  47.0      M   \n",
       "5   John Paul Quintero  3/1/2015  shot and Tasered     unarmed  23.0      M   \n",
       "8      Matthew Hoffman  4/1/2015              shot  toy weapon  32.0      M   \n",
       "9    Michael Rodriguez  4/1/2015              shot    nail gun  39.0      M   \n",
       "\n",
       "   race           city state  signs_of_mental_illness           ...            \\\n",
       "id                                                              ...             \n",
       "3     A        Shelton    WA                     True           ...             \n",
       "4     W          Aloha    OR                    False           ...             \n",
       "5     H        Wichita    KS                    False           ...             \n",
       "8     W  San Francisco    CA                     True           ...             \n",
       "9     H          Evans    CO                    False           ...             \n",
       "\n",
       "           flee body_camera  median_income poverty_rate  percent_completed_hs  \\\n",
       "id                                                                              \n",
       "3   Not fleeing       False          31750         31.1                  64.1   \n",
       "4   Not fleeing       False          42009         27.7                  48.1   \n",
       "5   Not fleeing       False          32500         17.2                  79.2   \n",
       "8   Not fleeing       False          31750         31.1                  86.6   \n",
       "9   Not fleeing       False          39868         11.1                  91.2   \n",
       "\n",
       "    share_of_city_white  share_of_city_black  share_of_city_native_american  \\\n",
       "id                                                                            \n",
       "3                  97.9                  0.0                            1.1   \n",
       "4                  79.6                  0.6                            0.3   \n",
       "5                  96.4                  0.0                            0.0   \n",
       "8                  97.9                  0.0                            1.1   \n",
       "9                  96.3                  0.0                            0.4   \n",
       "\n",
       "    share_of_city_asian  share_of_city_hispanic  \n",
       "id                                               \n",
       "3                   0.5                     1.1  \n",
       "4                   0.0                    49.4  \n",
       "5                   0.6                     6.0  \n",
       "8                   0.0                     1.1  \n",
       "9                   0.0                     0.4  \n",
       "\n",
       "[5 rows x 21 columns]"
      ]
     },
     "execution_count": 4,
     "metadata": {},
     "output_type": "execute_result"
    }
   ],
   "source": [
    "df.head()"
   ]
  },
  {
   "cell_type": "code",
   "execution_count": 5,
   "metadata": {},
   "outputs": [
    {
     "data": {
      "text/plain": [
       "'9/9/2016'"
      ]
     },
     "execution_count": 5,
     "metadata": {},
     "output_type": "execute_result"
    }
   ],
   "source": [
    "df.date.max()"
   ]
  },
  {
   "cell_type": "code",
   "execution_count": 6,
   "metadata": {},
   "outputs": [
    {
     "data": {
      "text/plain": [
       "'1/1/2016'"
      ]
     },
     "execution_count": 6,
     "metadata": {},
     "output_type": "execute_result"
    }
   ],
   "source": [
    "df.date.min()"
   ]
  },
  {
   "cell_type": "code",
   "execution_count": 8,
   "metadata": {},
   "outputs": [
    {
     "data": {
      "text/plain": [
       "array(['2/1/2015', '3/1/2015', '4/1/2015', '5/1/2015', '6/1/2015',\n",
       "       '7/1/2015', '8/1/2015', '9/1/2015', '11/1/2015', '13/01/15',\n",
       "       '14/01/15', '15/01/15', '16/01/15', '17/01/15', '18/01/15',\n",
       "       '19/01/15', '20/01/15', '21/01/15', '22/01/15', '23/01/15',\n",
       "       '24/01/15', '25/01/15', '26/01/15', '27/01/15', '28/01/15',\n",
       "       '29/01/15', '30/01/15', '31/01/15', '2/2/2015', '3/2/2015',\n",
       "       '4/2/2015', '5/2/2015', '6/2/2015', '7/2/2015', '8/2/2015',\n",
       "       '9/2/2015', '10/2/2015', '11/2/2015', '13/02/15', '14/02/15',\n",
       "       '15/02/15', '16/02/15', '17/02/15', '18/02/15', '20/02/15',\n",
       "       '21/02/15', '22/02/15', '23/02/15', '24/02/15', '25/02/15',\n",
       "       '26/02/15', '27/02/15', '28/02/15', '1/3/2015', '2/3/2015',\n",
       "       '3/3/2015', '4/3/2015', '5/3/2015', '6/3/2015', '7/3/2015',\n",
       "       '8/3/2015', '9/3/2015', '10/3/2015', '11/3/2015', '12/3/2015',\n",
       "       '13/03/15', '14/03/15', '15/03/15', '16/03/15', '17/03/15',\n",
       "       '18/03/15', '19/03/15', '20/03/15', '21/03/15', '22/03/15',\n",
       "       '23/03/15', '24/03/15', '25/03/15', '26/03/15', '27/03/15',\n",
       "       '29/03/15', '30/03/15', '31/03/15', '1/4/2015', '2/4/2015',\n",
       "       '3/4/2015', '4/4/2015', '5/4/2015', '6/4/2015', '7/4/2015',\n",
       "       '8/4/2015', '9/4/2015', '10/4/2015', '11/4/2015', '12/4/2015',\n",
       "       '13/04/15', '14/04/15', '15/04/15', '16/04/15', '17/04/15',\n",
       "       '18/04/15', '19/04/15', '20/04/15', '21/04/15', '22/04/15',\n",
       "       '23/04/15', '24/04/15', '25/04/15', '26/04/15', '27/04/15',\n",
       "       '28/04/15', '29/04/15', '30/04/15', '2/5/2015', '3/5/2015',\n",
       "       '4/5/2015', '5/5/2015', '6/5/2015', '7/5/2015', '8/5/2015',\n",
       "       '10/5/2015', '11/5/2015', '12/5/2015', '14/05/15', '15/05/15',\n",
       "       '16/05/15', '17/05/15', '19/05/15', '20/05/15', '21/05/15',\n",
       "       '22/05/15', '23/05/15', '25/05/15', '26/05/15', '27/05/15',\n",
       "       '28/05/15', '29/05/15', '30/05/15', '31/05/15', '1/6/2015',\n",
       "       '2/6/2015', '3/6/2015', '5/6/2015', '6/6/2015', '7/6/2015',\n",
       "       '8/6/2015', '9/6/2015', '10/6/2015', '11/6/2015', '12/6/2015',\n",
       "       '13/06/15', '14/06/15', '15/06/15', '16/06/15', '17/06/15',\n",
       "       '18/06/15', '19/06/15', '20/06/15', '21/06/15', '22/06/15',\n",
       "       '23/06/15', '24/06/15', '25/06/15', '26/06/15', '27/06/15',\n",
       "       '28/06/15', '29/06/15', '30/06/15', '1/7/2015', '2/7/2015',\n",
       "       '3/7/2015', '4/7/2015', '5/7/2015', '6/7/2015', '7/7/2015',\n",
       "       '8/7/2015', '9/7/2015', '10/7/2015', '11/7/2015', '12/7/2015',\n",
       "       '13/07/15', '14/07/15', '15/07/15', '16/07/15', '17/07/15',\n",
       "       '18/07/15', '19/07/15', '20/07/15', '21/07/15', '22/07/15',\n",
       "       '23/07/15', '24/07/15', '25/07/15', '26/07/15', '27/07/15',\n",
       "       '28/07/15', '29/07/15', '30/07/15', '31/07/15', '1/8/2015',\n",
       "       '2/8/2015', '3/8/2015', '4/8/2015', '5/8/2015', '6/8/2015',\n",
       "       '7/8/2015', '8/8/2015', '9/8/2015', '10/8/2015', '11/8/2015',\n",
       "       '12/8/2015', '14/08/15', '15/08/15', '16/08/15', '17/08/15',\n",
       "       '19/08/15', '20/08/15', '21/08/15', '22/08/15', '23/08/15',\n",
       "       '25/08/15', '26/08/15', '27/08/15', '28/08/15', '29/08/15',\n",
       "       '30/08/15', '31/08/15', '1/9/2015', '2/9/2015', '3/9/2015',\n",
       "       '4/9/2015', '5/9/2015', '6/9/2015', '7/9/2015', '8/9/2015',\n",
       "       '9/9/2015', '10/9/2015', '11/9/2015', '12/9/2015', '13/09/15',\n",
       "       '14/09/15', '15/09/15', '16/09/15', '17/09/15', '18/09/15',\n",
       "       '19/09/15', '20/09/15', '21/09/15', '22/09/15', '23/09/15',\n",
       "       '24/09/15', '25/09/15', '26/09/15', '27/09/15', '28/09/15',\n",
       "       '29/09/15', '30/09/15', '2/10/2015', '4/10/2015', '5/10/2015',\n",
       "       '6/10/2015', '7/10/2015', '9/10/2015', '10/10/2015', '11/10/2015',\n",
       "       '12/10/2015', '14/10/15', '15/10/15', '16/10/15', '17/10/15',\n",
       "       '18/10/15', '19/10/15', '20/10/15', '21/10/15', '22/10/15',\n",
       "       '24/10/15', '25/10/15', '26/10/15', '27/10/15', '28/10/15',\n",
       "       '29/10/15', '30/10/15', '31/10/15', '1/11/2015', '2/11/2015',\n",
       "       '3/11/2015', '4/11/2015', '5/11/2015', '6/11/2015', '9/11/2015',\n",
       "       '10/11/2015', '11/11/2015', '12/11/2015', '13/11/15', '14/11/15',\n",
       "       '15/11/15', '16/11/15', '17/11/15', '18/11/15', '19/11/15',\n",
       "       '20/11/15', '21/11/15', '22/11/15', '23/11/15', '24/11/15',\n",
       "       '25/11/15', '26/11/15', '27/11/15', '28/11/15', '29/11/15',\n",
       "       '30/11/15', '1/12/2015', '2/12/2015', '3/12/2015', '4/12/2015',\n",
       "       '5/12/2015', '6/12/2015', '8/12/2015', '9/12/2015', '10/12/2015',\n",
       "       '11/12/2015', '12/12/2015', '13/12/15', '14/12/15', '15/12/15',\n",
       "       '16/12/15', '17/12/15', '18/12/15', '19/12/15', '20/12/15',\n",
       "       '21/12/15', '22/12/15', '23/12/15', '24/12/15', '25/12/15',\n",
       "       '26/12/15', '27/12/15', '28/12/15', '29/12/15', '30/12/15',\n",
       "       '31/12/15', '1/1/2016', '2/1/2016', '3/1/2016', '4/1/2016',\n",
       "       '5/1/2016', '6/1/2016', '8/1/2016', '10/1/2016', '11/1/2016',\n",
       "       '12/1/2016', '13/01/16', '14/01/16', '15/01/16', '16/01/16',\n",
       "       '17/01/16', '18/01/16', '19/01/16', '20/01/16', '21/01/16',\n",
       "       '23/01/16', '25/01/16', '26/01/16', '27/01/16', '28/01/16',\n",
       "       '29/01/16', '30/01/16', '31/01/16', '1/2/2016', '2/2/2016',\n",
       "       '3/2/2016', '4/2/2016', '5/2/2016', '6/2/2016', '7/2/2016',\n",
       "       '8/2/2016', '9/2/2016', '10/2/2016', '11/2/2016', '12/2/2016',\n",
       "       '13/02/16', '14/02/16', '15/02/16', '16/02/16', '17/02/16',\n",
       "       '18/02/16', '19/02/16', '20/02/16', '21/02/16', '22/02/16',\n",
       "       '23/02/16', '24/02/16', '25/02/16', '26/02/16', '27/02/16',\n",
       "       '28/02/16', '29/02/16', '1/3/2016', '2/3/2016', '3/3/2016',\n",
       "       '4/3/2016', '5/3/2016', '6/3/2016', '7/3/2016', '8/3/2016',\n",
       "       '10/3/2016', '11/3/2016', '12/3/2016', '13/03/16', '14/03/16',\n",
       "       '15/03/16', '16/03/16', '17/03/16', '18/03/16', '19/03/16',\n",
       "       '20/03/16', '21/03/16', '22/03/16', '23/03/16', '24/03/16',\n",
       "       '26/03/16', '27/03/16', '29/03/16', '30/03/16', '31/03/16',\n",
       "       '1/4/2016', '2/4/2016', '3/4/2016', '4/4/2016', '5/4/2016',\n",
       "       '6/4/2016', '7/4/2016', '8/4/2016', '9/4/2016', '10/4/2016',\n",
       "       '11/4/2016', '12/4/2016', '13/04/16', '14/04/16', '15/04/16',\n",
       "       '16/04/16', '17/04/16', '18/04/16', '19/04/16', '20/04/16',\n",
       "       '21/04/16', '22/04/16', '23/04/16', '25/04/16', '26/04/16',\n",
       "       '27/04/16', '28/04/16', '29/04/16', '30/04/16', '1/5/2016',\n",
       "       '2/5/2016', '3/5/2016', '4/5/2016', '5/5/2016', '6/5/2016',\n",
       "       '7/5/2016', '8/5/2016', '9/5/2016', '10/5/2016', '11/5/2016',\n",
       "       '13/05/16', '14/05/16', '15/05/16', '16/05/16', '17/05/16',\n",
       "       '18/05/16', '19/05/16', '20/05/16', '21/05/16', '22/05/16',\n",
       "       '23/05/16', '24/05/16', '25/05/16', '26/05/16', '27/05/16',\n",
       "       '28/05/16', '29/05/16', '30/05/16', '31/05/16', '1/6/2016',\n",
       "       '2/6/2016', '3/6/2016', '4/6/2016', '5/6/2016', '6/6/2016',\n",
       "       '7/6/2016', '8/6/2016', '9/6/2016', '10/6/2016', '11/6/2016',\n",
       "       '12/6/2016', '13/06/16', '14/06/16', '15/06/16', '16/06/16',\n",
       "       '18/06/16', '19/06/16', '20/06/16', '21/06/16', '22/06/16',\n",
       "       '23/06/16', '24/06/16', '25/06/16', '26/06/16', '27/06/16',\n",
       "       '28/06/16', '29/06/16', '30/06/16', '1/7/2016', '2/7/2016',\n",
       "       '3/7/2016', '4/7/2016', '5/7/2016', '6/7/2016', '7/7/2016',\n",
       "       '8/7/2016', '9/7/2016', '10/7/2016', '11/7/2016', '12/7/2016',\n",
       "       '13/07/16', '14/07/16', '15/07/16', '16/07/16', '17/07/16',\n",
       "       '18/07/16', '20/07/16', '21/07/16', '22/07/16', '23/07/16',\n",
       "       '24/07/16', '25/07/16', '26/07/16', '27/07/16', '28/07/16',\n",
       "       '29/07/16', '31/07/16', '1/8/2016', '2/8/2016', '3/8/2016',\n",
       "       '5/8/2016', '7/8/2016', '8/8/2016', '9/8/2016', '11/8/2016',\n",
       "       '12/8/2016', '13/08/16', '15/08/16', '16/08/16', '17/08/16',\n",
       "       '18/08/16', '19/08/16', '20/08/16', '21/08/16', '22/08/16',\n",
       "       '23/08/16', '24/08/16', '25/08/16', '26/08/16', '27/08/16',\n",
       "       '28/08/16', '29/08/16', '30/08/16', '31/08/16', '1/9/2016',\n",
       "       '2/9/2016', '3/9/2016', '4/9/2016', '5/9/2016', '6/9/2016',\n",
       "       '7/9/2016', '8/9/2016', '9/9/2016', '10/9/2016', '11/9/2016',\n",
       "       '12/9/2016', '14/09/16', '15/09/16', '16/09/16', '17/09/16',\n",
       "       '18/09/16', '19/09/16', '20/09/16', '21/09/16', '23/09/16',\n",
       "       '25/09/16', '26/09/16', '27/09/16', '28/09/16', '29/09/16',\n",
       "       '30/09/16', '1/10/2016', '2/10/2016', '3/10/2016', '4/10/2016',\n",
       "       '5/10/2016', '7/10/2016', '8/10/2016', '9/10/2016', '10/10/2016',\n",
       "       '11/10/2016', '12/10/2016', '13/10/16', '14/10/16', '15/10/16',\n",
       "       '16/10/16', '17/10/16', '18/10/16', '19/10/16', '20/10/16',\n",
       "       '21/10/16', '22/10/16', '23/10/16', '24/10/16', '25/10/16',\n",
       "       '26/10/16', '27/10/16', '28/10/16', '30/10/16', '31/10/16',\n",
       "       '1/11/2016', '2/11/2016', '3/11/2016', '4/11/2016', '5/11/2016',\n",
       "       '6/11/2016', '7/11/2016', '8/11/2016', '9/11/2016', '10/11/2016',\n",
       "       '11/11/2016', '12/11/2016', '13/11/16', '15/11/16', '16/11/16',\n",
       "       '18/11/16', '19/11/16', '20/11/16', '21/11/16', '22/11/16',\n",
       "       '23/11/16', '24/11/16', '25/11/16', '26/11/16', '27/11/16',\n",
       "       '28/11/16', '29/11/16', '30/11/16', '1/12/2016', '2/12/2016',\n",
       "       '3/12/2016', '4/12/2016', '6/12/2016', '7/12/2016', '8/12/2016',\n",
       "       '9/12/2016', '10/12/2016', '11/12/2016', '12/12/2016', '13/12/16',\n",
       "       '15/12/16', '16/12/16', '17/12/16', '18/12/16', '19/12/16',\n",
       "       '20/12/16', '21/12/16', '22/12/16', '23/12/16', '24/12/16',\n",
       "       '25/12/16', '27/12/16', '28/12/16', '29/12/16', '30/12/16',\n",
       "       '31/12/16', '1/1/2017', '3/1/2017', '4/1/2017', '5/1/2017',\n",
       "       '6/1/2017', '7/1/2017', '8/1/2017', '9/1/2017', '10/1/2017',\n",
       "       '11/1/2017', '12/1/2017', '13/01/17', '14/01/17', '15/01/17',\n",
       "       '16/01/17', '17/01/17', '18/01/17', '19/01/17', '20/01/17',\n",
       "       '21/01/17', '22/01/17', '23/01/17', '24/01/17', '25/01/17',\n",
       "       '26/01/17', '27/01/17', '28/01/17', '29/01/17', '30/01/17',\n",
       "       '31/01/17', '1/2/2017', '2/2/2017', '3/2/2017', '4/2/2017',\n",
       "       '5/2/2017', '6/2/2017', '7/2/2017', '8/2/2017', '9/2/2017',\n",
       "       '10/2/2017', '11/2/2017', '12/2/2017', '13/02/17', '14/02/17',\n",
       "       '15/02/17', '16/02/17', '17/02/17', '18/02/17', '19/02/17',\n",
       "       '20/02/17', '21/02/17', '22/02/17', '23/02/17', '24/02/17',\n",
       "       '25/02/17', '26/02/17', '27/02/17', '28/02/17', '1/3/2017',\n",
       "       '2/3/2017', '3/3/2017', '4/3/2017', '7/3/2017', '8/3/2017',\n",
       "       '9/3/2017', '10/3/2017', '11/3/2017', '12/3/2017', '13/03/17',\n",
       "       '14/03/17', '15/03/17', '16/03/17', '17/03/17', '18/03/17',\n",
       "       '19/03/17', '22/03/17', '23/03/17', '24/03/17', '25/03/17',\n",
       "       '26/03/17', '27/03/17', '28/03/17', '29/03/17', '30/03/17',\n",
       "       '1/4/2017', '3/4/2017', '4/4/2017', '5/4/2017', '6/4/2017',\n",
       "       '7/4/2017', '8/4/2017', '9/4/2017', '10/4/2017', '12/4/2017',\n",
       "       '13/04/17', '14/04/17', '15/04/17', '16/04/17', '17/04/17',\n",
       "       '18/04/17', '19/04/17', '20/04/17', '21/04/17', '22/04/17',\n",
       "       '23/04/17', '24/04/17', '25/04/17', '26/04/17', '27/04/17',\n",
       "       '28/04/17', '29/04/17', '30/04/17', '1/5/2017', '2/5/2017',\n",
       "       '3/5/2017', '4/5/2017', '6/5/2017', '7/5/2017', '8/5/2017',\n",
       "       '9/5/2017', '10/5/2017', '11/5/2017', '12/5/2017', '13/05/17',\n",
       "       '14/05/17', '15/05/17', '16/05/17', '17/05/17', '20/05/17',\n",
       "       '21/05/17', '22/05/17', '23/05/17', '24/05/17', '25/05/17',\n",
       "       '26/05/17', '27/05/17', '28/05/17', '29/05/17', '30/05/17',\n",
       "       '31/05/17', '1/6/2017', '2/6/2017', '3/6/2017', '4/6/2017',\n",
       "       '5/6/2017', '6/6/2017', '7/6/2017', '8/6/2017', '9/6/2017',\n",
       "       '10/6/2017', '11/6/2017', '12/6/2017', '13/06/17', '14/06/17',\n",
       "       '15/06/17', '16/06/17', '17/06/17', '18/06/17', '19/06/17',\n",
       "       '20/06/17', '21/06/17', '22/06/17', '23/06/17', '24/06/17',\n",
       "       '25/06/17', '26/06/17', '27/06/17', '28/06/17', '29/06/17',\n",
       "       '30/06/17', '1/7/2017', '2/7/2017', '3/7/2017', '4/7/2017',\n",
       "       '5/7/2017', '6/7/2017', '7/7/2017', '8/7/2017', '9/7/2017',\n",
       "       '10/7/2017', '11/7/2017', '12/7/2017', '13/07/17', '14/07/17',\n",
       "       '15/07/17', '17/07/17', '18/07/17', '19/07/17', '20/07/17',\n",
       "       '21/07/17', '23/07/17', '24/07/17', '25/07/17', '26/07/17',\n",
       "       '27/07/17', '28/07/17', '29/07/17', '31/07/17'], dtype=object)"
      ]
     },
     "execution_count": 8,
     "metadata": {},
     "output_type": "execute_result"
    }
   ],
   "source": [
    "df.date.unique()"
   ]
  },
  {
   "cell_type": "code",
   "execution_count": 10,
   "metadata": {},
   "outputs": [
    {
     "data": {
      "text/plain": [
       "date\n",
       "1/1/2016    1\n",
       "17/05/16    1\n",
       "17/05/17    1\n",
       "17/08/16    1\n",
       "30/03/17    1\n",
       "Name: date, dtype: int64"
      ]
     },
     "execution_count": 10,
     "metadata": {},
     "output_type": "execute_result"
    }
   ],
   "source": [
    "df.groupby(['date'])['date'].count().sort_values(ascending = True).head(5)"
   ]
  },
  {
   "cell_type": "code",
   "execution_count": 11,
   "metadata": {},
   "outputs": [
    {
     "data": {
      "text/plain": [
       "date\n",
       "7/7/2015     8\n",
       "21/12/16     8\n",
       "10/2/2017    8\n",
       "24/01/17     8\n",
       "14/12/15     8\n",
       "Name: date, dtype: int64"
      ]
     },
     "execution_count": 11,
     "metadata": {},
     "output_type": "execute_result"
    }
   ],
   "source": [
    "df.groupby(['date'])['date'].count().sort_values(ascending = False).head(5)"
   ]
  },
  {
   "cell_type": "code",
   "execution_count": 12,
   "metadata": {},
   "outputs": [
    {
     "data": {
      "text/plain": [
       "name                             2535\n",
       "date                             2535\n",
       "manner_of_death                  2535\n",
       "armed                            2526\n",
       "age                              2458\n",
       "gender                           2535\n",
       "race                             2340\n",
       "city                             2535\n",
       "state                            2535\n",
       "signs_of_mental_illness          2535\n",
       "threat_level                     2535\n",
       "flee                             2470\n",
       "body_camera                      2535\n",
       "median_income                    2198\n",
       "poverty_rate                     2528\n",
       "percent_completed_hs             2321\n",
       "share_of_city_white              2330\n",
       "share_of_city_black              2330\n",
       "share_of_city_native_american    2535\n",
       "share_of_city_asian              2535\n",
       "share_of_city_hispanic           2535\n",
       "dtype: int64"
      ]
     },
     "execution_count": 12,
     "metadata": {},
     "output_type": "execute_result"
    }
   ],
   "source": [
    "df.count()"
   ]
  },
  {
   "cell_type": "code",
   "execution_count": 13,
   "metadata": {},
   "outputs": [
    {
     "name": "stdout",
     "output_type": "stream",
     "text": [
      "<class 'pandas.core.frame.DataFrame'>\n",
      "Int64Index: 2535 entries, 3 to 2815\n",
      "Data columns (total 21 columns):\n",
      "name                             2535 non-null object\n",
      "date                             2535 non-null object\n",
      "manner_of_death                  2535 non-null object\n",
      "armed                            2526 non-null object\n",
      "age                              2458 non-null float64\n",
      "gender                           2535 non-null object\n",
      "race                             2340 non-null object\n",
      "city                             2535 non-null object\n",
      "state                            2535 non-null object\n",
      "signs_of_mental_illness          2535 non-null bool\n",
      "threat_level                     2535 non-null object\n",
      "flee                             2470 non-null object\n",
      "body_camera                      2535 non-null bool\n",
      "median_income                    2198 non-null object\n",
      "poverty_rate                     2528 non-null float64\n",
      "percent_completed_hs             2321 non-null float64\n",
      "share_of_city_white              2330 non-null float64\n",
      "share_of_city_black              2330 non-null float64\n",
      "share_of_city_native_american    2535 non-null float64\n",
      "share_of_city_asian              2535 non-null float64\n",
      "share_of_city_hispanic           2535 non-null float64\n",
      "dtypes: bool(2), float64(8), object(11)\n",
      "memory usage: 401.0+ KB\n"
     ]
    }
   ],
   "source": [
    "df.info()"
   ]
  },
  {
   "cell_type": "code",
   "execution_count": 14,
   "metadata": {},
   "outputs": [
    {
     "data": {
      "text/html": [
       "<div>\n",
       "<style scoped>\n",
       "    .dataframe tbody tr th:only-of-type {\n",
       "        vertical-align: middle;\n",
       "    }\n",
       "\n",
       "    .dataframe tbody tr th {\n",
       "        vertical-align: top;\n",
       "    }\n",
       "\n",
       "    .dataframe thead th {\n",
       "        text-align: right;\n",
       "    }\n",
       "</style>\n",
       "<table border=\"1\" class=\"dataframe\">\n",
       "  <thead>\n",
       "    <tr style=\"text-align: right;\">\n",
       "      <th></th>\n",
       "      <th>age</th>\n",
       "      <th>poverty_rate</th>\n",
       "      <th>percent_completed_hs</th>\n",
       "      <th>share_of_city_white</th>\n",
       "      <th>share_of_city_black</th>\n",
       "      <th>share_of_city_native_american</th>\n",
       "      <th>share_of_city_asian</th>\n",
       "      <th>share_of_city_hispanic</th>\n",
       "    </tr>\n",
       "  </thead>\n",
       "  <tbody>\n",
       "    <tr>\n",
       "      <th>count</th>\n",
       "      <td>2458.000000</td>\n",
       "      <td>2528.000000</td>\n",
       "      <td>2321.000000</td>\n",
       "      <td>2330.000000</td>\n",
       "      <td>2330.000000</td>\n",
       "      <td>2535.000000</td>\n",
       "      <td>2535.000000</td>\n",
       "      <td>2535.000000</td>\n",
       "    </tr>\n",
       "    <tr>\n",
       "      <th>mean</th>\n",
       "      <td>36.605370</td>\n",
       "      <td>18.937737</td>\n",
       "      <td>86.179966</td>\n",
       "      <td>86.548498</td>\n",
       "      <td>5.310901</td>\n",
       "      <td>0.628955</td>\n",
       "      <td>0.837870</td>\n",
       "      <td>6.717475</td>\n",
       "    </tr>\n",
       "    <tr>\n",
       "      <th>std</th>\n",
       "      <td>13.030774</td>\n",
       "      <td>11.852988</td>\n",
       "      <td>12.354937</td>\n",
       "      <td>18.073472</td>\n",
       "      <td>13.537441</td>\n",
       "      <td>0.833095</td>\n",
       "      <td>1.609532</td>\n",
       "      <td>10.839406</td>\n",
       "    </tr>\n",
       "    <tr>\n",
       "      <th>min</th>\n",
       "      <td>6.000000</td>\n",
       "      <td>0.000000</td>\n",
       "      <td>0.000000</td>\n",
       "      <td>0.000000</td>\n",
       "      <td>0.000000</td>\n",
       "      <td>0.000000</td>\n",
       "      <td>0.000000</td>\n",
       "      <td>0.000000</td>\n",
       "    </tr>\n",
       "    <tr>\n",
       "      <th>25%</th>\n",
       "      <td>26.000000</td>\n",
       "      <td>9.900000</td>\n",
       "      <td>82.100000</td>\n",
       "      <td>84.900000</td>\n",
       "      <td>0.200000</td>\n",
       "      <td>0.200000</td>\n",
       "      <td>0.000000</td>\n",
       "      <td>1.100000</td>\n",
       "    </tr>\n",
       "    <tr>\n",
       "      <th>50%</th>\n",
       "      <td>34.000000</td>\n",
       "      <td>17.400000</td>\n",
       "      <td>89.900000</td>\n",
       "      <td>94.200000</td>\n",
       "      <td>0.700000</td>\n",
       "      <td>0.400000</td>\n",
       "      <td>0.400000</td>\n",
       "      <td>2.700000</td>\n",
       "    </tr>\n",
       "    <tr>\n",
       "      <th>75%</th>\n",
       "      <td>45.000000</td>\n",
       "      <td>27.600000</td>\n",
       "      <td>93.400000</td>\n",
       "      <td>97.300000</td>\n",
       "      <td>2.700000</td>\n",
       "      <td>0.800000</td>\n",
       "      <td>0.800000</td>\n",
       "      <td>7.300000</td>\n",
       "    </tr>\n",
       "    <tr>\n",
       "      <th>max</th>\n",
       "      <td>91.000000</td>\n",
       "      <td>79.400000</td>\n",
       "      <td>100.000000</td>\n",
       "      <td>100.000000</td>\n",
       "      <td>96.700000</td>\n",
       "      <td>7.300000</td>\n",
       "      <td>22.800000</td>\n",
       "      <td>88.100000</td>\n",
       "    </tr>\n",
       "  </tbody>\n",
       "</table>\n",
       "</div>"
      ],
      "text/plain": [
       "               age  poverty_rate  percent_completed_hs  share_of_city_white  \\\n",
       "count  2458.000000   2528.000000           2321.000000          2330.000000   \n",
       "mean     36.605370     18.937737             86.179966            86.548498   \n",
       "std      13.030774     11.852988             12.354937            18.073472   \n",
       "min       6.000000      0.000000              0.000000             0.000000   \n",
       "25%      26.000000      9.900000             82.100000            84.900000   \n",
       "50%      34.000000     17.400000             89.900000            94.200000   \n",
       "75%      45.000000     27.600000             93.400000            97.300000   \n",
       "max      91.000000     79.400000            100.000000           100.000000   \n",
       "\n",
       "       share_of_city_black  share_of_city_native_american  \\\n",
       "count          2330.000000                    2535.000000   \n",
       "mean              5.310901                       0.628955   \n",
       "std              13.537441                       0.833095   \n",
       "min               0.000000                       0.000000   \n",
       "25%               0.200000                       0.200000   \n",
       "50%               0.700000                       0.400000   \n",
       "75%               2.700000                       0.800000   \n",
       "max              96.700000                       7.300000   \n",
       "\n",
       "       share_of_city_asian  share_of_city_hispanic  \n",
       "count          2535.000000             2535.000000  \n",
       "mean              0.837870                6.717475  \n",
       "std               1.609532               10.839406  \n",
       "min               0.000000                0.000000  \n",
       "25%               0.000000                1.100000  \n",
       "50%               0.400000                2.700000  \n",
       "75%               0.800000                7.300000  \n",
       "max              22.800000               88.100000  "
      ]
     },
     "execution_count": 14,
     "metadata": {},
     "output_type": "execute_result"
    }
   ],
   "source": [
    "df.describe()"
   ]
  },
  {
   "cell_type": "code",
   "execution_count": 15,
   "metadata": {},
   "outputs": [
    {
     "data": {
      "text/plain": [
       "Index(['name', 'date', 'manner_of_death', 'armed', 'age', 'gender', 'race',\n",
       "       'city', 'state', 'signs_of_mental_illness', 'threat_level', 'flee',\n",
       "       'body_camera', 'median_income', 'poverty_rate', 'percent_completed_hs',\n",
       "       'share_of_city_white', 'share_of_city_black',\n",
       "       'share_of_city_native_american', 'share_of_city_asian',\n",
       "       'share_of_city_hispanic'],\n",
       "      dtype='object')"
      ]
     },
     "execution_count": 15,
     "metadata": {},
     "output_type": "execute_result"
    }
   ],
   "source": [
    "df.columns"
   ]
  },
  {
   "cell_type": "code",
   "execution_count": 16,
   "metadata": {},
   "outputs": [
    {
     "data": {
      "text/plain": [
       "race\n",
       "A      39\n",
       "B     618\n",
       "H     423\n",
       "N      31\n",
       "O      28\n",
       "W    1201\n",
       "Name: race, dtype: int64"
      ]
     },
     "execution_count": 16,
     "metadata": {},
     "output_type": "execute_result"
    }
   ],
   "source": [
    "df.groupby(['race'])['race'].count()"
   ]
  },
  {
   "cell_type": "code",
   "execution_count": 40,
   "metadata": {},
   "outputs": [
    {
     "data": {
      "text/plain": [
       "<matplotlib.axes._subplots.AxesSubplot at 0x1a243f3208>"
      ]
     },
     "execution_count": 40,
     "metadata": {},
     "output_type": "execute_result"
    },
    {
     "data": {
      "image/png": "[encoded data removed]",
      "text/plain": [
       "<Figure size 432x288 with 1 Axes>"
      ]
     },
     "metadata": {},
     "output_type": "display_data"
    }
   ],
   "source": [
    "sns.set(style = 'whitegrid')\n",
    "#sns.set(style = 'ticks')\n",
    "sns.countplot(data = df, x = 'race',order = df['race'].value_counts().index)"
   ]
  },
  {
   "cell_type": "code",
   "execution_count": 54,
   "metadata": {},
   "outputs": [],
   "source": [
    "df = df.dropna()"
   ]
  },
  {
   "cell_type": "code",
   "execution_count": 55,
   "metadata": {},
   "outputs": [
    {
     "name": "stdout",
     "output_type": "stream",
     "text": [
      "<class 'pandas.core.frame.DataFrame'>\n",
      "Int64Index: 1921 entries, 3 to 2815\n",
      "Data columns (total 21 columns):\n",
      "name                             1921 non-null object\n",
      "date                             1921 non-null object\n",
      "manner_of_death                  1921 non-null object\n",
      "armed                            1921 non-null object\n",
      "age                              1921 non-null float64\n",
      "gender                           1921 non-null object\n",
      "race                             1921 non-null object\n",
      "city                             1921 non-null object\n",
      "state                            1921 non-null object\n",
      "signs_of_mental_illness          1921 non-null bool\n",
      "threat_level                     1921 non-null object\n",
      "flee                             1921 non-null object\n",
      "body_camera                      1921 non-null bool\n",
      "median_income                    1921 non-null object\n",
      "poverty_rate                     1921 non-null float64\n",
      "percent_completed_hs             1921 non-null float64\n",
      "share_of_city_white              1921 non-null float64\n",
      "share_of_city_black              1921 non-null float64\n",
      "share_of_city_native_american    1921 non-null float64\n",
      "share_of_city_asian              1921 non-null float64\n",
      "share_of_city_hispanic           1921 non-null float64\n",
      "dtypes: bool(2), float64(8), object(11)\n",
      "memory usage: 303.9+ KB\n"
     ]
    }
   ],
   "source": [
    "df.info()"
   ]
  },
  {
   "cell_type": "code",
   "execution_count": 41,
   "metadata": {},
   "outputs": [
    {
     "data": {
      "text/html": [
       "<div>\n",
       "<style scoped>\n",
       "    .dataframe tbody tr th:only-of-type {\n",
       "        vertical-align: middle;\n",
       "    }\n",
       "\n",
       "    .dataframe tbody tr th {\n",
       "        vertical-align: top;\n",
       "    }\n",
       "\n",
       "    .dataframe thead th {\n",
       "        text-align: right;\n",
       "    }\n",
       "</style>\n",
       "<table border=\"1\" class=\"dataframe\">\n",
       "  <thead>\n",
       "    <tr style=\"text-align: right;\">\n",
       "      <th></th>\n",
       "      <th>name</th>\n",
       "      <th>date</th>\n",
       "      <th>manner_of_death</th>\n",
       "      <th>armed</th>\n",
       "      <th>age</th>\n",
       "      <th>gender</th>\n",
       "      <th>race</th>\n",
       "      <th>city</th>\n",
       "      <th>state</th>\n",
       "      <th>signs_of_mental_illness</th>\n",
       "      <th>...</th>\n",
       "      <th>flee</th>\n",
       "      <th>body_camera</th>\n",
       "      <th>median_income</th>\n",
       "      <th>poverty_rate</th>\n",
       "      <th>percent_completed_hs</th>\n",
       "      <th>share_of_city_white</th>\n",
       "      <th>share_of_city_black</th>\n",
       "      <th>share_of_city_native_american</th>\n",
       "      <th>share_of_city_asian</th>\n",
       "      <th>share_of_city_hispanic</th>\n",
       "    </tr>\n",
       "    <tr>\n",
       "      <th>id</th>\n",
       "      <th></th>\n",
       "      <th></th>\n",
       "      <th></th>\n",
       "      <th></th>\n",
       "      <th></th>\n",
       "      <th></th>\n",
       "      <th></th>\n",
       "      <th></th>\n",
       "      <th></th>\n",
       "      <th></th>\n",
       "      <th></th>\n",
       "      <th></th>\n",
       "      <th></th>\n",
       "      <th></th>\n",
       "      <th></th>\n",
       "      <th></th>\n",
       "      <th></th>\n",
       "      <th></th>\n",
       "      <th></th>\n",
       "      <th></th>\n",
       "      <th></th>\n",
       "    </tr>\n",
       "  </thead>\n",
       "  <tbody>\n",
       "    <tr>\n",
       "      <th>3</th>\n",
       "      <td>Tim Elliot</td>\n",
       "      <td>2/1/2015</td>\n",
       "      <td>shot</td>\n",
       "      <td>gun</td>\n",
       "      <td>53.0</td>\n",
       "      <td>M</td>\n",
       "      <td>A</td>\n",
       "      <td>Shelton</td>\n",
       "      <td>WA</td>\n",
       "      <td>True</td>\n",
       "      <td>...</td>\n",
       "      <td>Not fleeing</td>\n",
       "      <td>False</td>\n",
       "      <td>31750</td>\n",
       "      <td>31.1</td>\n",
       "      <td>64.1</td>\n",
       "      <td>97.9</td>\n",
       "      <td>0.0</td>\n",
       "      <td>1.1</td>\n",
       "      <td>0.5</td>\n",
       "      <td>1.1</td>\n",
       "    </tr>\n",
       "    <tr>\n",
       "      <th>4</th>\n",
       "      <td>Lewis Lee Lembke</td>\n",
       "      <td>2/1/2015</td>\n",
       "      <td>shot</td>\n",
       "      <td>gun</td>\n",
       "      <td>47.0</td>\n",
       "      <td>M</td>\n",
       "      <td>W</td>\n",
       "      <td>Aloha</td>\n",
       "      <td>OR</td>\n",
       "      <td>False</td>\n",
       "      <td>...</td>\n",
       "      <td>Not fleeing</td>\n",
       "      <td>False</td>\n",
       "      <td>42009</td>\n",
       "      <td>27.7</td>\n",
       "      <td>48.1</td>\n",
       "      <td>79.6</td>\n",
       "      <td>0.6</td>\n",
       "      <td>0.3</td>\n",
       "      <td>0.0</td>\n",
       "      <td>49.4</td>\n",
       "    </tr>\n",
       "    <tr>\n",
       "      <th>5</th>\n",
       "      <td>John Paul Quintero</td>\n",
       "      <td>3/1/2015</td>\n",
       "      <td>shot and Tasered</td>\n",
       "      <td>unarmed</td>\n",
       "      <td>23.0</td>\n",
       "      <td>M</td>\n",
       "      <td>H</td>\n",
       "      <td>Wichita</td>\n",
       "      <td>KS</td>\n",
       "      <td>False</td>\n",
       "      <td>...</td>\n",
       "      <td>Not fleeing</td>\n",
       "      <td>False</td>\n",
       "      <td>32500</td>\n",
       "      <td>17.2</td>\n",
       "      <td>79.2</td>\n",
       "      <td>96.4</td>\n",
       "      <td>0.0</td>\n",
       "      <td>0.0</td>\n",
       "      <td>0.6</td>\n",
       "      <td>6.0</td>\n",
       "    </tr>\n",
       "    <tr>\n",
       "      <th>8</th>\n",
       "      <td>Matthew Hoffman</td>\n",
       "      <td>4/1/2015</td>\n",
       "      <td>shot</td>\n",
       "      <td>toy weapon</td>\n",
       "      <td>32.0</td>\n",
       "      <td>M</td>\n",
       "      <td>W</td>\n",
       "      <td>San Francisco</td>\n",
       "      <td>CA</td>\n",
       "      <td>True</td>\n",
       "      <td>...</td>\n",
       "      <td>Not fleeing</td>\n",
       "      <td>False</td>\n",
       "      <td>31750</td>\n",
       "      <td>31.1</td>\n",
       "      <td>86.6</td>\n",
       "      <td>97.9</td>\n",
       "      <td>0.0</td>\n",
       "      <td>1.1</td>\n",
       "      <td>0.0</td>\n",
       "      <td>1.1</td>\n",
       "    </tr>\n",
       "    <tr>\n",
       "      <th>9</th>\n",
       "      <td>Michael Rodriguez</td>\n",
       "      <td>4/1/2015</td>\n",
       "      <td>shot</td>\n",
       "      <td>nail gun</td>\n",
       "      <td>39.0</td>\n",
       "      <td>M</td>\n",
       "      <td>H</td>\n",
       "      <td>Evans</td>\n",
       "      <td>CO</td>\n",
       "      <td>False</td>\n",
       "      <td>...</td>\n",
       "      <td>Not fleeing</td>\n",
       "      <td>False</td>\n",
       "      <td>39868</td>\n",
       "      <td>11.1</td>\n",
       "      <td>91.2</td>\n",
       "      <td>96.3</td>\n",
       "      <td>0.0</td>\n",
       "      <td>0.4</td>\n",
       "      <td>0.0</td>\n",
       "      <td>0.4</td>\n",
       "    </tr>\n",
       "  </tbody>\n",
       "</table>\n",
       "<p>5 rows × 21 columns</p>\n",
       "</div>"
      ],
      "text/plain": [
       "                  name      date   manner_of_death       armed   age gender  \\\n",
       "id                                                                            \n",
       "3           Tim Elliot  2/1/2015              shot         gun  53.0      M   \n",
       "4     Lewis Lee Lembke  2/1/2015              shot         gun  47.0      M   \n",
       "5   John Paul Quintero  3/1/2015  shot and Tasered     unarmed  23.0      M   \n",
       "8      Matthew Hoffman  4/1/2015              shot  toy weapon  32.0      M   \n",
       "9    Michael Rodriguez  4/1/2015              shot    nail gun  39.0      M   \n",
       "\n",
       "   race           city state  signs_of_mental_illness           ...            \\\n",
       "id                                                              ...             \n",
       "3     A        Shelton    WA                     True           ...             \n",
       "4     W          Aloha    OR                    False           ...             \n",
       "5     H        Wichita    KS                    False           ...             \n",
       "8     W  San Francisco    CA                     True           ...             \n",
       "9     H          Evans    CO                    False           ...             \n",
       "\n",
       "           flee body_camera  median_income poverty_rate  percent_completed_hs  \\\n",
       "id                                                                              \n",
       "3   Not fleeing       False          31750         31.1                  64.1   \n",
       "4   Not fleeing       False          42009         27.7                  48.1   \n",
       "5   Not fleeing       False          32500         17.2                  79.2   \n",
       "8   Not fleeing       False          31750         31.1                  86.6   \n",
       "9   Not fleeing       False          39868         11.1                  91.2   \n",
       "\n",
       "    share_of_city_white  share_of_city_black  share_of_city_native_american  \\\n",
       "id                                                                            \n",
       "3                  97.9                  0.0                            1.1   \n",
       "4                  79.6                  0.6                            0.3   \n",
       "5                  96.4                  0.0                            0.0   \n",
       "8                  97.9                  0.0                            1.1   \n",
       "9                  96.3                  0.0                            0.4   \n",
       "\n",
       "    share_of_city_asian  share_of_city_hispanic  \n",
       "id                                               \n",
       "3                   0.5                     1.1  \n",
       "4                   0.0                    49.4  \n",
       "5                   0.6                     6.0  \n",
       "8                   0.0                     1.1  \n",
       "9                   0.0                     0.4  \n",
       "\n",
       "[5 rows x 21 columns]"
      ]
     },
     "execution_count": 41,
     "metadata": {},
     "output_type": "execute_result"
    }
   ],
   "source": [
    "df.head(5)"
   ]
  },
  {
   "cell_type": "markdown",
   "metadata": {},
   "source": [
    "Histogram of the median income"
   ]
  },
  {
   "cell_type": "code",
   "execution_count": 46,
   "metadata": {},
   "outputs": [
    {
     "data": {
      "text/html": [
       "<div>\n",
       "<style scoped>\n",
       "    .dataframe tbody tr th:only-of-type {\n",
       "        vertical-align: middle;\n",
       "    }\n",
       "\n",
       "    .dataframe tbody tr th {\n",
       "        vertical-align: top;\n",
       "    }\n",
       "\n",
       "    .dataframe thead th {\n",
       "        text-align: right;\n",
       "    }\n",
       "</style>\n",
       "<table border=\"1\" class=\"dataframe\">\n",
       "  <thead>\n",
       "    <tr style=\"text-align: right;\">\n",
       "      <th></th>\n",
       "      <th></th>\n",
       "      <th>name</th>\n",
       "      <th>date</th>\n",
       "      <th>armed</th>\n",
       "      <th>age</th>\n",
       "      <th>race</th>\n",
       "      <th>city</th>\n",
       "      <th>state</th>\n",
       "      <th>signs_of_mental_illness</th>\n",
       "      <th>threat_level</th>\n",
       "      <th>flee</th>\n",
       "      <th>body_camera</th>\n",
       "      <th>median_income</th>\n",
       "      <th>poverty_rate</th>\n",
       "      <th>percent_completed_hs</th>\n",
       "      <th>share_of_city_white</th>\n",
       "      <th>share_of_city_black</th>\n",
       "      <th>share_of_city_native_american</th>\n",
       "      <th>share_of_city_asian</th>\n",
       "      <th>share_of_city_hispanic</th>\n",
       "    </tr>\n",
       "    <tr>\n",
       "      <th>manner_of_death</th>\n",
       "      <th>gender</th>\n",
       "      <th></th>\n",
       "      <th></th>\n",
       "      <th></th>\n",
       "      <th></th>\n",
       "      <th></th>\n",
       "      <th></th>\n",
       "      <th></th>\n",
       "      <th></th>\n",
       "      <th></th>\n",
       "      <th></th>\n",
       "      <th></th>\n",
       "      <th></th>\n",
       "      <th></th>\n",
       "      <th></th>\n",
       "      <th></th>\n",
       "      <th></th>\n",
       "      <th></th>\n",
       "      <th></th>\n",
       "      <th></th>\n",
       "    </tr>\n",
       "  </thead>\n",
       "  <tbody>\n",
       "    <tr>\n",
       "      <th rowspan=\"2\" valign=\"top\">shot</th>\n",
       "      <th>F</th>\n",
       "      <td>102</td>\n",
       "      <td>102</td>\n",
       "      <td>102</td>\n",
       "      <td>99</td>\n",
       "      <td>93</td>\n",
       "      <td>102</td>\n",
       "      <td>102</td>\n",
       "      <td>102</td>\n",
       "      <td>102</td>\n",
       "      <td>99</td>\n",
       "      <td>102</td>\n",
       "      <td>86</td>\n",
       "      <td>102</td>\n",
       "      <td>94</td>\n",
       "      <td>93</td>\n",
       "      <td>93</td>\n",
       "      <td>102</td>\n",
       "      <td>102</td>\n",
       "      <td>102</td>\n",
       "    </tr>\n",
       "    <tr>\n",
       "      <th>M</th>\n",
       "      <td>2261</td>\n",
       "      <td>2261</td>\n",
       "      <td>2253</td>\n",
       "      <td>2191</td>\n",
       "      <td>2087</td>\n",
       "      <td>2261</td>\n",
       "      <td>2261</td>\n",
       "      <td>2261</td>\n",
       "      <td>2261</td>\n",
       "      <td>2204</td>\n",
       "      <td>2261</td>\n",
       "      <td>1963</td>\n",
       "      <td>2255</td>\n",
       "      <td>2064</td>\n",
       "      <td>2072</td>\n",
       "      <td>2072</td>\n",
       "      <td>2261</td>\n",
       "      <td>2261</td>\n",
       "      <td>2261</td>\n",
       "    </tr>\n",
       "    <tr>\n",
       "      <th rowspan=\"2\" valign=\"top\">shot and Tasered</th>\n",
       "      <th>F</th>\n",
       "      <td>5</td>\n",
       "      <td>5</td>\n",
       "      <td>5</td>\n",
       "      <td>5</td>\n",
       "      <td>5</td>\n",
       "      <td>5</td>\n",
       "      <td>5</td>\n",
       "      <td>5</td>\n",
       "      <td>5</td>\n",
       "      <td>5</td>\n",
       "      <td>5</td>\n",
       "      <td>4</td>\n",
       "      <td>5</td>\n",
       "      <td>4</td>\n",
       "      <td>5</td>\n",
       "      <td>5</td>\n",
       "      <td>5</td>\n",
       "      <td>5</td>\n",
       "      <td>5</td>\n",
       "    </tr>\n",
       "    <tr>\n",
       "      <th>M</th>\n",
       "      <td>167</td>\n",
       "      <td>167</td>\n",
       "      <td>166</td>\n",
       "      <td>163</td>\n",
       "      <td>155</td>\n",
       "      <td>167</td>\n",
       "      <td>167</td>\n",
       "      <td>167</td>\n",
       "      <td>167</td>\n",
       "      <td>162</td>\n",
       "      <td>167</td>\n",
       "      <td>145</td>\n",
       "      <td>166</td>\n",
       "      <td>159</td>\n",
       "      <td>160</td>\n",
       "      <td>160</td>\n",
       "      <td>167</td>\n",
       "      <td>167</td>\n",
       "      <td>167</td>\n",
       "    </tr>\n",
       "  </tbody>\n",
       "</table>\n",
       "</div>"
      ],
      "text/plain": [
       "                         name  date  armed   age  race  city  state  \\\n",
       "manner_of_death  gender                                               \n",
       "shot             F        102   102    102    99    93   102    102   \n",
       "                 M       2261  2261   2253  2191  2087  2261   2261   \n",
       "shot and Tasered F          5     5      5     5     5     5      5   \n",
       "                 M        167   167    166   163   155   167    167   \n",
       "\n",
       "                         signs_of_mental_illness  threat_level  flee  \\\n",
       "manner_of_death  gender                                                \n",
       "shot             F                           102           102    99   \n",
       "                 M                          2261          2261  2204   \n",
       "shot and Tasered F                             5             5     5   \n",
       "                 M                           167           167   162   \n",
       "\n",
       "                         body_camera  median_income  poverty_rate  \\\n",
       "manner_of_death  gender                                             \n",
       "shot             F               102             86           102   \n",
       "                 M              2261           1963          2255   \n",
       "shot and Tasered F                 5              4             5   \n",
       "                 M               167            145           166   \n",
       "\n",
       "                         percent_completed_hs  share_of_city_white  \\\n",
       "manner_of_death  gender                                              \n",
       "shot             F                         94                   93   \n",
       "                 M                       2064                 2072   \n",
       "shot and Tasered F                          4                    5   \n",
       "                 M                        159                  160   \n",
       "\n",
       "                         share_of_city_black  share_of_city_native_american  \\\n",
       "manner_of_death  gender                                                       \n",
       "shot             F                        93                            102   \n",
       "                 M                      2072                           2261   \n",
       "shot and Tasered F                         5                              5   \n",
       "                 M                       160                            167   \n",
       "\n",
       "                         share_of_city_asian  share_of_city_hispanic  \n",
       "manner_of_death  gender                                               \n",
       "shot             F                       102                     102  \n",
       "                 M                      2261                    2261  \n",
       "shot and Tasered F                         5                       5  \n",
       "                 M                       167                     167  "
      ]
     },
     "execution_count": 46,
     "metadata": {},
     "output_type": "execute_result"
    }
   ],
   "source": [
    "df.groupby(['manner_of_death','gender']).count()"
   ]
  },
  {
   "cell_type": "code",
   "execution_count": 47,
   "metadata": {},
   "outputs": [
    {
     "data": {
      "text/plain": [
       "attack          1611\n",
       "other            766\n",
       "undetermined     158\n",
       "Name: threat_level, dtype: int64"
      ]
     },
     "execution_count": 47,
     "metadata": {},
     "output_type": "execute_result"
    }
   ],
   "source": [
    "df.threat_level.value_counts()"
   ]
  },
  {
   "cell_type": "code",
   "execution_count": 13,
   "metadata": {},
   "outputs": [
    {
     "data": {
      "text/plain": [
       "<matplotlib.axes._subplots.AxesSubplot at 0x1035b98d0>"
      ]
     },
     "execution_count": 13,
     "metadata": {},
     "output_type": "execute_result"
    },
    {
     "data": {
      "image/png": "[encoded data removed]",
      "text/plain": [
       "<Figure size 432x288 with 1 Axes>"
      ]
     },
     "metadata": {},
     "output_type": "display_data"
    }
   ],
   "source": [
    "sns.boxplot(x = 'gender', y = 'age', data = df)"
   ]
  },
  {
   "cell_type": "code",
   "execution_count": 14,
   "metadata": {},
   "outputs": [
    {
     "data": {
      "text/plain": [
       "<matplotlib.axes._subplots.AxesSubplot at 0x1a0aed5e48>"
      ]
     },
     "execution_count": 14,
     "metadata": {},
     "output_type": "execute_result"
    },
    {
     "data": {
      "image/png": "[encoded data removed]",
      "text/plain": [
       "<Figure size 432x288 with 1 Axes>"
      ]
     },
     "metadata": {},
     "output_type": "display_data"
    }
   ],
   "source": [
    "sns.boxplot(x = 'gender', y = 'poverty_rate', data = df)"
   ]
  },
  {
   "cell_type": "code",
   "execution_count": 15,
   "metadata": {},
   "outputs": [
    {
     "data": {
      "image/png": "[encoded data removed]",
      "text/plain": [
       "<Figure size 432x288 with 1 Axes>"
      ]
     },
     "metadata": {},
     "output_type": "display_data"
    }
   ],
   "source": [
    "sns.boxplot(x=\"race\", y=\"age\", hue=\"gender\", data=df);"
   ]
  },
  {
   "cell_type": "code",
   "execution_count": 62,
   "metadata": {},
   "outputs": [
    {
     "data": {
      "text/plain": [
       "<matplotlib.axes._subplots.AxesSubplot at 0x1a24d665c0>"
      ]
     },
     "execution_count": 62,
     "metadata": {},
     "output_type": "execute_result"
    },
    {
     "data": {
      "image/png": "[encoded data removed]",
      "text/plain": [
       "<Figure size 1440x720 with 1 Axes>"
      ]
     },
     "metadata": {},
     "output_type": "display_data"
    }
   ],
   "source": [
    "plt.figure(figsize=(20,10))\n",
    "df['age'].hist(bins = 100)"
   ]
  },
  {
   "cell_type": "code",
   "execution_count": 63,
   "metadata": {},
   "outputs": [
    {
     "data": {
      "text/plain": [
       "Index(['name', 'date', 'manner_of_death', 'armed', 'age', 'gender', 'race',\n",
       "       'city', 'state', 'signs_of_mental_illness', 'threat_level', 'flee',\n",
       "       'body_camera', 'median_income', 'poverty_rate', 'percent_completed_hs',\n",
       "       'share_of_city_white', 'share_of_city_black',\n",
       "       'share_of_city_native_american', 'share_of_city_asian',\n",
       "       'share_of_city_hispanic'],\n",
       "      dtype='object')"
      ]
     },
     "execution_count": 63,
     "metadata": {},
     "output_type": "execute_result"
    }
   ],
   "source": [
    "df.columns"
   ]
  },
  {
   "cell_type": "code",
   "execution_count": 1,
   "metadata": {},
   "outputs": [
    {
     "ename": "NameError",
     "evalue": "name 'plt' is not defined",
     "output_type": "error",
     "traceback": [
      "\u001b[0;31m---------------------------------------------------------------------------\u001b[0m",
      "\u001b[0;31mNameError\u001b[0m                                 Traceback (most recent call last)",
      "\u001b[0;32m<ipython-input-1-ffeecb1a9077>\u001b[0m in \u001b[0;36m<module>\u001b[0;34m()\u001b[0m\n\u001b[0;32m----> 1\u001b[0;31m \u001b[0mplt\u001b[0m\u001b[0;34m.\u001b[0m\u001b[0mfigure\u001b[0m\u001b[0;34m(\u001b[0m\u001b[0mfigsize\u001b[0m\u001b[0;34m=\u001b[0m\u001b[0;34m(\u001b[0m\u001b[0;36m20\u001b[0m\u001b[0;34m,\u001b[0m\u001b[0;36m10\u001b[0m\u001b[0;34m)\u001b[0m\u001b[0;34m)\u001b[0m\u001b[0;34m\u001b[0m\u001b[0m\n\u001b[0m\u001b[1;32m      2\u001b[0m \u001b[0;31m#df['median_income'].hist(bins = 100)\u001b[0m\u001b[0;34m\u001b[0m\u001b[0;34m\u001b[0m\u001b[0m\n",
      "\u001b[0;31mNameError\u001b[0m: name 'plt' is not defined"
     ]
    }
   ],
   "source": [
    "plt.figure(figsize=(20,10))\n",
    "#df['median_income'].hist(bins = 100)"
   ]
  },
  {
   "cell_type": "code",
   "execution_count": 61,
   "metadata": {},
   "outputs": [
    {
     "data": {
      "text/plain": [
       "<matplotlib.axes._subplots.AxesSubplot at 0x1a24b90978>"
      ]
     },
     "execution_count": 61,
     "metadata": {},
     "output_type": "execute_result"
    },
    {
     "data": {
      "image/png": "[encoded data removed]",
      "text/plain": [
       "<Figure size 1440x720 with 1 Axes>"
      ]
     },
     "metadata": {},
     "output_type": "display_data"
    }
   ],
   "source": [
    "plt.figure(figsize=(20,10))\n",
    "sns.countplot(x=\"state\", data=df)"
   ]
  },
  {
   "cell_type": "code",
   "execution_count": 28,
   "metadata": {
    "scrolled": true
   },
   "outputs": [
    {
     "data": {
      "text/plain": [
       "<matplotlib.axes._subplots.AxesSubplot at 0x1a22803e10>"
      ]
     },
     "execution_count": 28,
     "metadata": {},
     "output_type": "execute_result"
    },
    {
     "data": {
      "image/png": "[encoded data removed]",
      "text/plain": [
       "<Figure size 2160x720 with 1 Axes>"
      ]
     },
     "metadata": {},
     "output_type": "display_data"
    }
   ],
   "source": [
    "fig, ax = plt.subplots()\n",
    "fig.set_size_inches(30, 10)\n",
    "sns.countplot(x=\"state\", hue=\"gender\", data=df)"
   ]
  },
  {
   "cell_type": "code",
   "execution_count": 28,
   "metadata": {},
   "outputs": [],
   "source": [
    "df_nona = df.dropna()"
   ]
  },
  {
   "cell_type": "code",
   "execution_count": 29,
   "metadata": {},
   "outputs": [
    {
     "data": {
      "text/html": [
       "<div>\n",
       "<style scoped>\n",
       "    .dataframe tbody tr th:only-of-type {\n",
       "        vertical-align: middle;\n",
       "    }\n",
       "\n",
       "    .dataframe tbody tr th {\n",
       "        vertical-align: top;\n",
       "    }\n",
       "\n",
       "    .dataframe thead th {\n",
       "        text-align: right;\n",
       "    }\n",
       "</style>\n",
       "<table border=\"1\" class=\"dataframe\">\n",
       "  <thead>\n",
       "    <tr style=\"text-align: right;\">\n",
       "      <th></th>\n",
       "      <th>name</th>\n",
       "      <th>date</th>\n",
       "      <th>manner_of_death</th>\n",
       "      <th>armed</th>\n",
       "      <th>age</th>\n",
       "      <th>gender</th>\n",
       "      <th>race</th>\n",
       "      <th>city</th>\n",
       "      <th>state</th>\n",
       "      <th>signs_of_mental_illness</th>\n",
       "      <th>...</th>\n",
       "      <th>flee</th>\n",
       "      <th>body_camera</th>\n",
       "      <th>median_income</th>\n",
       "      <th>poverty_rate</th>\n",
       "      <th>percent_completed_hs</th>\n",
       "      <th>share_of_city_white</th>\n",
       "      <th>share_of_city_black</th>\n",
       "      <th>share_of_city_native_american</th>\n",
       "      <th>share_of_city_asian</th>\n",
       "      <th>share_of_city_hispanic</th>\n",
       "    </tr>\n",
       "    <tr>\n",
       "      <th>id</th>\n",
       "      <th></th>\n",
       "      <th></th>\n",
       "      <th></th>\n",
       "      <th></th>\n",
       "      <th></th>\n",
       "      <th></th>\n",
       "      <th></th>\n",
       "      <th></th>\n",
       "      <th></th>\n",
       "      <th></th>\n",
       "      <th></th>\n",
       "      <th></th>\n",
       "      <th></th>\n",
       "      <th></th>\n",
       "      <th></th>\n",
       "      <th></th>\n",
       "      <th></th>\n",
       "      <th></th>\n",
       "      <th></th>\n",
       "      <th></th>\n",
       "      <th></th>\n",
       "    </tr>\n",
       "  </thead>\n",
       "  <tbody>\n",
       "    <tr>\n",
       "      <th>3</th>\n",
       "      <td>Tim Elliot</td>\n",
       "      <td>2/1/2015</td>\n",
       "      <td>shot</td>\n",
       "      <td>gun</td>\n",
       "      <td>53.0</td>\n",
       "      <td>M</td>\n",
       "      <td>A</td>\n",
       "      <td>Shelton</td>\n",
       "      <td>WA</td>\n",
       "      <td>True</td>\n",
       "      <td>...</td>\n",
       "      <td>Not fleeing</td>\n",
       "      <td>False</td>\n",
       "      <td>31750</td>\n",
       "      <td>31.1</td>\n",
       "      <td>64.1</td>\n",
       "      <td>97.9</td>\n",
       "      <td>0.0</td>\n",
       "      <td>1.1</td>\n",
       "      <td>0.5</td>\n",
       "      <td>1.1</td>\n",
       "    </tr>\n",
       "    <tr>\n",
       "      <th>4</th>\n",
       "      <td>Lewis Lee Lembke</td>\n",
       "      <td>2/1/2015</td>\n",
       "      <td>shot</td>\n",
       "      <td>gun</td>\n",
       "      <td>47.0</td>\n",
       "      <td>M</td>\n",
       "      <td>W</td>\n",
       "      <td>Aloha</td>\n",
       "      <td>OR</td>\n",
       "      <td>False</td>\n",
       "      <td>...</td>\n",
       "      <td>Not fleeing</td>\n",
       "      <td>False</td>\n",
       "      <td>42009</td>\n",
       "      <td>27.7</td>\n",
       "      <td>48.1</td>\n",
       "      <td>79.6</td>\n",
       "      <td>0.6</td>\n",
       "      <td>0.3</td>\n",
       "      <td>0.0</td>\n",
       "      <td>49.4</td>\n",
       "    </tr>\n",
       "    <tr>\n",
       "      <th>5</th>\n",
       "      <td>John Paul Quintero</td>\n",
       "      <td>3/1/2015</td>\n",
       "      <td>shot and Tasered</td>\n",
       "      <td>unarmed</td>\n",
       "      <td>23.0</td>\n",
       "      <td>M</td>\n",
       "      <td>H</td>\n",
       "      <td>Wichita</td>\n",
       "      <td>KS</td>\n",
       "      <td>False</td>\n",
       "      <td>...</td>\n",
       "      <td>Not fleeing</td>\n",
       "      <td>False</td>\n",
       "      <td>32500</td>\n",
       "      <td>17.2</td>\n",
       "      <td>79.2</td>\n",
       "      <td>96.4</td>\n",
       "      <td>0.0</td>\n",
       "      <td>0.0</td>\n",
       "      <td>0.6</td>\n",
       "      <td>6.0</td>\n",
       "    </tr>\n",
       "    <tr>\n",
       "      <th>8</th>\n",
       "      <td>Matthew Hoffman</td>\n",
       "      <td>4/1/2015</td>\n",
       "      <td>shot</td>\n",
       "      <td>toy weapon</td>\n",
       "      <td>32.0</td>\n",
       "      <td>M</td>\n",
       "      <td>W</td>\n",
       "      <td>San Francisco</td>\n",
       "      <td>CA</td>\n",
       "      <td>True</td>\n",
       "      <td>...</td>\n",
       "      <td>Not fleeing</td>\n",
       "      <td>False</td>\n",
       "      <td>31750</td>\n",
       "      <td>31.1</td>\n",
       "      <td>86.6</td>\n",
       "      <td>97.9</td>\n",
       "      <td>0.0</td>\n",
       "      <td>1.1</td>\n",
       "      <td>0.0</td>\n",
       "      <td>1.1</td>\n",
       "    </tr>\n",
       "    <tr>\n",
       "      <th>9</th>\n",
       "      <td>Michael Rodriguez</td>\n",
       "      <td>4/1/2015</td>\n",
       "      <td>shot</td>\n",
       "      <td>nail gun</td>\n",
       "      <td>39.0</td>\n",
       "      <td>M</td>\n",
       "      <td>H</td>\n",
       "      <td>Evans</td>\n",
       "      <td>CO</td>\n",
       "      <td>False</td>\n",
       "      <td>...</td>\n",
       "      <td>Not fleeing</td>\n",
       "      <td>False</td>\n",
       "      <td>39868</td>\n",
       "      <td>11.1</td>\n",
       "      <td>91.2</td>\n",
       "      <td>96.3</td>\n",
       "      <td>0.0</td>\n",
       "      <td>0.4</td>\n",
       "      <td>0.0</td>\n",
       "      <td>0.4</td>\n",
       "    </tr>\n",
       "  </tbody>\n",
       "</table>\n",
       "<p>5 rows × 21 columns</p>\n",
       "</div>"
      ],
      "text/plain": [
       "                  name      date   manner_of_death       armed   age gender  \\\n",
       "id                                                                            \n",
       "3           Tim Elliot  2/1/2015              shot         gun  53.0      M   \n",
       "4     Lewis Lee Lembke  2/1/2015              shot         gun  47.0      M   \n",
       "5   John Paul Quintero  3/1/2015  shot and Tasered     unarmed  23.0      M   \n",
       "8      Matthew Hoffman  4/1/2015              shot  toy weapon  32.0      M   \n",
       "9    Michael Rodriguez  4/1/2015              shot    nail gun  39.0      M   \n",
       "\n",
       "   race           city state  signs_of_mental_illness           ...            \\\n",
       "id                                                              ...             \n",
       "3     A        Shelton    WA                     True           ...             \n",
       "4     W          Aloha    OR                    False           ...             \n",
       "5     H        Wichita    KS                    False           ...             \n",
       "8     W  San Francisco    CA                     True           ...             \n",
       "9     H          Evans    CO                    False           ...             \n",
       "\n",
       "           flee body_camera  median_income poverty_rate  percent_completed_hs  \\\n",
       "id                                                                              \n",
       "3   Not fleeing       False          31750         31.1                  64.1   \n",
       "4   Not fleeing       False          42009         27.7                  48.1   \n",
       "5   Not fleeing       False          32500         17.2                  79.2   \n",
       "8   Not fleeing       False          31750         31.1                  86.6   \n",
       "9   Not fleeing       False          39868         11.1                  91.2   \n",
       "\n",
       "    share_of_city_white  share_of_city_black  share_of_city_native_american  \\\n",
       "id                                                                            \n",
       "3                  97.9                  0.0                            1.1   \n",
       "4                  79.6                  0.6                            0.3   \n",
       "5                  96.4                  0.0                            0.0   \n",
       "8                  97.9                  0.0                            1.1   \n",
       "9                  96.3                  0.0                            0.4   \n",
       "\n",
       "    share_of_city_asian  share_of_city_hispanic  \n",
       "id                                               \n",
       "3                   0.5                     1.1  \n",
       "4                   0.0                    49.4  \n",
       "5                   0.6                     6.0  \n",
       "8                   0.0                     1.1  \n",
       "9                   0.0                     0.4  \n",
       "\n",
       "[5 rows x 21 columns]"
      ]
     },
     "execution_count": 29,
     "metadata": {},
     "output_type": "execute_result"
    }
   ],
   "source": [
    "df_nona.head()"
   ]
  },
  {
   "cell_type": "code",
   "execution_count": 34,
   "metadata": {},
   "outputs": [
    {
     "data": {
      "text/plain": [
       "race\n",
       "H    135\n",
       "W    102\n",
       "B     50\n",
       "A     13\n",
       "O      8\n",
       "N      1\n",
       "Name: race, dtype: int64"
      ]
     },
     "execution_count": 34,
     "metadata": {},
     "output_type": "execute_result"
    }
   ],
   "source": [
    "df_nona.loc[df['state'] == 'CA'].groupby(['race'])['race'].count().sort_values(ascending = False)"
   ]
  },
  {
   "cell_type": "code",
   "execution_count": 35,
   "metadata": {},
   "outputs": [
    {
     "data": {
      "text/plain": [
       "city\n",
       "Los Angeles      30\n",
       "San Francisco    11\n",
       "Fresno           10\n",
       "Long Beach        8\n",
       "San Jose          7\n",
       "Name: city, dtype: int64"
      ]
     },
     "execution_count": 35,
     "metadata": {},
     "output_type": "execute_result"
    }
   ],
   "source": [
    "df_nona.loc[df['state'] == 'CA'].groupby(['city'])['city'].count().sort_values(ascending = False).head(5)"
   ]
  },
  {
   "cell_type": "code",
   "execution_count": 37,
   "metadata": {},
   "outputs": [],
   "source": [
    "df_num = df_nona.select_dtypes(include = ('int64','float64'))"
   ]
  },
  {
   "cell_type": "code",
   "execution_count": 38,
   "metadata": {},
   "outputs": [
    {
     "name": "stdout",
     "output_type": "stream",
     "text": [
      "<class 'pandas.core.frame.DataFrame'>\n",
      "Int64Index: 1921 entries, 3 to 2815\n",
      "Data columns (total 21 columns):\n",
      "name                             1921 non-null object\n",
      "date                             1921 non-null object\n",
      "manner_of_death                  1921 non-null object\n",
      "armed                            1921 non-null object\n",
      "age                              1921 non-null float64\n",
      "gender                           1921 non-null object\n",
      "race                             1921 non-null object\n",
      "city                             1921 non-null object\n",
      "state                            1921 non-null object\n",
      "signs_of_mental_illness          1921 non-null bool\n",
      "threat_level                     1921 non-null object\n",
      "flee                             1921 non-null object\n",
      "body_camera                      1921 non-null bool\n",
      "median_income                    1921 non-null object\n",
      "poverty_rate                     1921 non-null float64\n",
      "percent_completed_hs             1921 non-null float64\n",
      "share_of_city_white              1921 non-null float64\n",
      "share_of_city_black              1921 non-null float64\n",
      "share_of_city_native_american    1921 non-null float64\n",
      "share_of_city_asian              1921 non-null float64\n",
      "share_of_city_hispanic           1921 non-null float64\n",
      "dtypes: bool(2), float64(8), object(11)\n",
      "memory usage: 303.9+ KB\n"
     ]
    }
   ],
   "source": [
    "df_nona.info()"
   ]
  },
  {
   "cell_type": "code",
   "execution_count": 39,
   "metadata": {},
   "outputs": [
    {
     "data": {
      "text/html": [
       "<div>\n",
       "<style scoped>\n",
       "    .dataframe tbody tr th:only-of-type {\n",
       "        vertical-align: middle;\n",
       "    }\n",
       "\n",
       "    .dataframe tbody tr th {\n",
       "        vertical-align: top;\n",
       "    }\n",
       "\n",
       "    .dataframe thead th {\n",
       "        text-align: right;\n",
       "    }\n",
       "</style>\n",
       "<table border=\"1\" class=\"dataframe\">\n",
       "  <thead>\n",
       "    <tr style=\"text-align: right;\">\n",
       "      <th></th>\n",
       "      <th>age</th>\n",
       "      <th>poverty_rate</th>\n",
       "      <th>percent_completed_hs</th>\n",
       "      <th>share_of_city_white</th>\n",
       "      <th>share_of_city_black</th>\n",
       "      <th>share_of_city_native_american</th>\n",
       "      <th>share_of_city_asian</th>\n",
       "      <th>share_of_city_hispanic</th>\n",
       "    </tr>\n",
       "    <tr>\n",
       "      <th>id</th>\n",
       "      <th></th>\n",
       "      <th></th>\n",
       "      <th></th>\n",
       "      <th></th>\n",
       "      <th></th>\n",
       "      <th></th>\n",
       "      <th></th>\n",
       "      <th></th>\n",
       "    </tr>\n",
       "  </thead>\n",
       "  <tbody>\n",
       "    <tr>\n",
       "      <th>3</th>\n",
       "      <td>53.0</td>\n",
       "      <td>31.1</td>\n",
       "      <td>64.1</td>\n",
       "      <td>97.9</td>\n",
       "      <td>0.0</td>\n",
       "      <td>1.1</td>\n",
       "      <td>0.5</td>\n",
       "      <td>1.1</td>\n",
       "    </tr>\n",
       "    <tr>\n",
       "      <th>4</th>\n",
       "      <td>47.0</td>\n",
       "      <td>27.7</td>\n",
       "      <td>48.1</td>\n",
       "      <td>79.6</td>\n",
       "      <td>0.6</td>\n",
       "      <td>0.3</td>\n",
       "      <td>0.0</td>\n",
       "      <td>49.4</td>\n",
       "    </tr>\n",
       "    <tr>\n",
       "      <th>5</th>\n",
       "      <td>23.0</td>\n",
       "      <td>17.2</td>\n",
       "      <td>79.2</td>\n",
       "      <td>96.4</td>\n",
       "      <td>0.0</td>\n",
       "      <td>0.0</td>\n",
       "      <td>0.6</td>\n",
       "      <td>6.0</td>\n",
       "    </tr>\n",
       "    <tr>\n",
       "      <th>8</th>\n",
       "      <td>32.0</td>\n",
       "      <td>31.1</td>\n",
       "      <td>86.6</td>\n",
       "      <td>97.9</td>\n",
       "      <td>0.0</td>\n",
       "      <td>1.1</td>\n",
       "      <td>0.0</td>\n",
       "      <td>1.1</td>\n",
       "    </tr>\n",
       "    <tr>\n",
       "      <th>9</th>\n",
       "      <td>39.0</td>\n",
       "      <td>11.1</td>\n",
       "      <td>91.2</td>\n",
       "      <td>96.3</td>\n",
       "      <td>0.0</td>\n",
       "      <td>0.4</td>\n",
       "      <td>0.0</td>\n",
       "      <td>0.4</td>\n",
       "    </tr>\n",
       "  </tbody>\n",
       "</table>\n",
       "</div>"
      ],
      "text/plain": [
       "     age  poverty_rate  percent_completed_hs  share_of_city_white  \\\n",
       "id                                                                  \n",
       "3   53.0          31.1                  64.1                 97.9   \n",
       "4   47.0          27.7                  48.1                 79.6   \n",
       "5   23.0          17.2                  79.2                 96.4   \n",
       "8   32.0          31.1                  86.6                 97.9   \n",
       "9   39.0          11.1                  91.2                 96.3   \n",
       "\n",
       "    share_of_city_black  share_of_city_native_american  share_of_city_asian  \\\n",
       "id                                                                            \n",
       "3                   0.0                            1.1                  0.5   \n",
       "4                   0.6                            0.3                  0.0   \n",
       "5                   0.0                            0.0                  0.6   \n",
       "8                   0.0                            1.1                  0.0   \n",
       "9                   0.0                            0.4                  0.0   \n",
       "\n",
       "    share_of_city_hispanic  \n",
       "id                          \n",
       "3                      1.1  \n",
       "4                     49.4  \n",
       "5                      6.0  \n",
       "8                      1.1  \n",
       "9                      0.4  "
      ]
     },
     "execution_count": 39,
     "metadata": {},
     "output_type": "execute_result"
    }
   ],
   "source": [
    "df_num[:5]"
   ]
  },
  {
   "cell_type": "code",
   "execution_count": 40,
   "metadata": {},
   "outputs": [],
   "source": [
    "corr_df_num = df_num.corr()"
   ]
  },
  {
   "cell_type": "code",
   "execution_count": 41,
   "metadata": {},
   "outputs": [
    {
     "data": {
      "text/plain": [
       "<matplotlib.axes._subplots.AxesSubplot at 0x114b815f8>"
      ]
     },
     "execution_count": 41,
     "metadata": {},
     "output_type": "execute_result"
    },
    {
     "data": {
      "image/png": "[encoded data removed]",
      "text/plain": [
       "<Figure size 432x288 with 2 Axes>"
      ]
     },
     "metadata": {},
     "output_type": "display_data"
    }
   ],
   "source": [
    "plt.figure()\n",
    "sns.heatmap(corr_df_num)"
   ]
  },
  {
   "cell_type": "code",
   "execution_count": 56,
   "metadata": {},
   "outputs": [
    {
     "data": {
      "text/plain": [
       "Index(['name', 'date', 'manner_of_death', 'armed', 'age', 'gender', 'race',\n",
       "       'city', 'state', 'signs_of_mental_illness', 'threat_level', 'flee',\n",
       "       'body_camera', 'median_income', 'poverty_rate', 'percent_completed_hs',\n",
       "       'share_of_city_white', 'share_of_city_black',\n",
       "       'share_of_city_native_american', 'share_of_city_asian',\n",
       "       'share_of_city_hispanic'],\n",
       "      dtype='object')"
      ]
     },
     "execution_count": 56,
     "metadata": {},
     "output_type": "execute_result"
    }
   ],
   "source": [
    "df.columns"
   ]
  },
  {
   "cell_type": "code",
   "execution_count": 60,
   "metadata": {},
   "outputs": [
    {
     "data": {
      "text/plain": [
       "city\n",
       "Los Angeles      30\n",
       "Phoenix          26\n",
       "Houston          23\n",
       "Chicago          18\n",
       "Las Vegas        17\n",
       "Columbus         15\n",
       "St. Louis        14\n",
       "San Antonio      14\n",
       "Miami            14\n",
       "Oklahoma City    13\n",
       "Name: city, dtype: int64"
      ]
     },
     "execution_count": 60,
     "metadata": {},
     "output_type": "execute_result"
    }
   ],
   "source": [
    "df.groupby(['city'])['city'].count().sort_values(ascending = False).head(10)"
   ]
  },
  {
   "cell_type": "markdown",
   "metadata": {},
   "source": [
    "### What I'm Going to Predict\n",
    "\n",
    "1. Predict a person's race\n",
    "2. Predict the person's gender\n",
    "3. Predict the threat level\n",
    "4. Predict the manner of death\n",
    "\n",
    "### Models to Use"
   ]
  },
  {
   "cell_type": "markdown",
   "metadata": {},
   "source": [
    "1. KNN\n",
    "2. Logistic Regression\n",
    "\n",
    "\n",
    "- Use a Binary Search Tree for Feature Selection\n",
    "- Use GridSearch\n",
    "- Normalize Using Ridge or Lasso"
   ]
  },
  {
   "cell_type": "code",
   "execution_count": null,
   "metadata": {},
   "outputs": [],
   "source": []
  }
 ],
 "metadata": {
  "kernelspec": {
   "display_name": "Python 3",
   "language": "python",
   "name": "python3"
  },
  "language_info": {
   "codemirror_mode": {
    "name": "ipython",
    "version": 3
   },
   "file_extension": ".py",
   "mimetype": "text/x-python",
   "name": "python",
   "nbconvert_exporter": "python",
   "pygments_lexer": "ipython3",
   "version": "3.6.5"
  }
 },
 "nbformat": 4,
 "nbformat_minor": 2
}
